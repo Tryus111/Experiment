{
 "cells": [
  {
   "cell_type": "code",
   "execution_count": 5,
   "id": "3cbd7f34",
   "metadata": {},
   "outputs": [
    {
     "data": {
      "text/html": [
       "<div>\n",
       "<style scoped>\n",
       "    .dataframe tbody tr th:only-of-type {\n",
       "        vertical-align: middle;\n",
       "    }\n",
       "\n",
       "    .dataframe tbody tr th {\n",
       "        vertical-align: top;\n",
       "    }\n",
       "\n",
       "    .dataframe thead th {\n",
       "        text-align: right;\n",
       "    }\n",
       "</style>\n",
       "<table border=\"1\" class=\"dataframe\">\n",
       "  <thead>\n",
       "    <tr style=\"text-align: right;\">\n",
       "      <th></th>\n",
       "      <th>DATE</th>\n",
       "      <th>PRECTOTCORR</th>\n",
       "      <th>TS</th>\n",
       "      <th>ALLSKY_SFC_UV_INDEX</th>\n",
       "      <th>ALLSKY_SFC_UVB</th>\n",
       "      <th>ALLSKY_SFC_UVA</th>\n",
       "    </tr>\n",
       "  </thead>\n",
       "  <tbody>\n",
       "    <tr>\n",
       "      <th>0</th>\n",
       "      <td>2001-01-01</td>\n",
       "      <td>4.18</td>\n",
       "      <td>26.31</td>\n",
       "      <td>2.48</td>\n",
       "      <td>0.48</td>\n",
       "      <td>14.62</td>\n",
       "    </tr>\n",
       "    <tr>\n",
       "      <th>1</th>\n",
       "      <td>2001-01-02</td>\n",
       "      <td>7.60</td>\n",
       "      <td>26.08</td>\n",
       "      <td>2.41</td>\n",
       "      <td>0.46</td>\n",
       "      <td>14.45</td>\n",
       "    </tr>\n",
       "    <tr>\n",
       "      <th>2</th>\n",
       "      <td>2001-01-03</td>\n",
       "      <td>7.21</td>\n",
       "      <td>24.67</td>\n",
       "      <td>2.29</td>\n",
       "      <td>0.43</td>\n",
       "      <td>13.26</td>\n",
       "    </tr>\n",
       "    <tr>\n",
       "      <th>3</th>\n",
       "      <td>2001-01-04</td>\n",
       "      <td>23.98</td>\n",
       "      <td>25.22</td>\n",
       "      <td>2.30</td>\n",
       "      <td>0.45</td>\n",
       "      <td>13.81</td>\n",
       "    </tr>\n",
       "    <tr>\n",
       "      <th>4</th>\n",
       "      <td>2001-01-05</td>\n",
       "      <td>5.14</td>\n",
       "      <td>24.08</td>\n",
       "      <td>1.85</td>\n",
       "      <td>0.36</td>\n",
       "      <td>11.04</td>\n",
       "    </tr>\n",
       "    <tr>\n",
       "      <th>...</th>\n",
       "      <td>...</td>\n",
       "      <td>...</td>\n",
       "      <td>...</td>\n",
       "      <td>...</td>\n",
       "      <td>...</td>\n",
       "      <td>...</td>\n",
       "    </tr>\n",
       "    <tr>\n",
       "      <th>7388</th>\n",
       "      <td>2021-03-27</td>\n",
       "      <td>8.20</td>\n",
       "      <td>25.50</td>\n",
       "      <td>2.12</td>\n",
       "      <td>0.41</td>\n",
       "      <td>12.88</td>\n",
       "    </tr>\n",
       "    <tr>\n",
       "      <th>7389</th>\n",
       "      <td>2021-03-28</td>\n",
       "      <td>14.27</td>\n",
       "      <td>25.11</td>\n",
       "      <td>2.48</td>\n",
       "      <td>0.47</td>\n",
       "      <td>15.38</td>\n",
       "    </tr>\n",
       "    <tr>\n",
       "      <th>7390</th>\n",
       "      <td>2021-03-29</td>\n",
       "      <td>2.33</td>\n",
       "      <td>25.37</td>\n",
       "      <td>2.25</td>\n",
       "      <td>0.43</td>\n",
       "      <td>14.05</td>\n",
       "    </tr>\n",
       "    <tr>\n",
       "      <th>7391</th>\n",
       "      <td>2021-03-30</td>\n",
       "      <td>3.77</td>\n",
       "      <td>25.02</td>\n",
       "      <td>1.33</td>\n",
       "      <td>0.26</td>\n",
       "      <td>8.09</td>\n",
       "    </tr>\n",
       "    <tr>\n",
       "      <th>7392</th>\n",
       "      <td>2021-03-31</td>\n",
       "      <td>17.13</td>\n",
       "      <td>25.83</td>\n",
       "      <td>2.38</td>\n",
       "      <td>0.45</td>\n",
       "      <td>14.27</td>\n",
       "    </tr>\n",
       "  </tbody>\n",
       "</table>\n",
       "<p>7393 rows × 6 columns</p>\n",
       "</div>"
      ],
      "text/plain": [
       "            DATE  PRECTOTCORR     TS  ALLSKY_SFC_UV_INDEX  ALLSKY_SFC_UVB  \\\n",
       "0     2001-01-01         4.18  26.31                 2.48            0.48   \n",
       "1     2001-01-02         7.60  26.08                 2.41            0.46   \n",
       "2     2001-01-03         7.21  24.67                 2.29            0.43   \n",
       "3     2001-01-04        23.98  25.22                 2.30            0.45   \n",
       "4     2001-01-05         5.14  24.08                 1.85            0.36   \n",
       "...          ...          ...    ...                  ...             ...   \n",
       "7388  2021-03-27         8.20  25.50                 2.12            0.41   \n",
       "7389  2021-03-28        14.27  25.11                 2.48            0.47   \n",
       "7390  2021-03-29         2.33  25.37                 2.25            0.43   \n",
       "7391  2021-03-30         3.77  25.02                 1.33            0.26   \n",
       "7392  2021-03-31        17.13  25.83                 2.38            0.45   \n",
       "\n",
       "      ALLSKY_SFC_UVA  \n",
       "0              14.62  \n",
       "1              14.45  \n",
       "2              13.26  \n",
       "3              13.81  \n",
       "4              11.04  \n",
       "...              ...  \n",
       "7388           12.88  \n",
       "7389           15.38  \n",
       "7390           14.05  \n",
       "7391            8.09  \n",
       "7392           14.27  \n",
       "\n",
       "[7393 rows x 6 columns]"
      ]
     },
     "execution_count": 5,
     "metadata": {},
     "output_type": "execute_result"
    }
   ],
   "source": [
    "import pandas as pd\n",
    "import matplotlib.pyplot as plt\n",
    "\n",
    "df = pd.read_csv('data_cleaned.csv')\n",
    "df"
   ]
  },
  {
   "cell_type": "code",
   "execution_count": 3,
   "id": "21add83d",
   "metadata": {},
   "outputs": [
    {
     "data": {
      "text/plain": [
       "Index(['DATE', 'PRECTOTCORR', 'TS', 'ALLSKY_SFC_UV_INDEX', 'ALLSKY_SFC_UVB',\n",
       "       'ALLSKY_SFC_UVA'],\n",
       "      dtype='object')"
      ]
     },
     "execution_count": 3,
     "metadata": {},
     "output_type": "execute_result"
    }
   ],
   "source": [
    "df.columns"
   ]
  },
  {
   "cell_type": "code",
   "execution_count": 4,
   "id": "0a25ef74",
   "metadata": {},
   "outputs": [
    {
     "data": {
      "text/plain": [
       "<Axes: >"
      ]
     },
     "execution_count": 4,
     "metadata": {},
     "output_type": "execute_result"
    },
    {
     "data": {
      "image/png": "[encoded data removed]",
      "text/plain": [
       "<Figure size 640x480 with 1 Axes>"
      ]
     },
     "metadata": {},
     "output_type": "display_data"
    }
   ],
   "source": [
    "x\n",
    "plt.scatter(df_"
   ]
  },
  {
   "cell_type": "code",
   "execution_count": null,
   "id": "2002a8f3",
   "metadata": {},
   "outputs": [],
   "source": []
  }
 ],
 "metadata": {
  "kernelspec": {
   "display_name": "Python 3 (ipykernel)",
   "language": "python",
   "name": "python3"
  },
  "language_info": {
   "codemirror_mode": {
    "name": "ipython",
    "version": 3
   },
   "file_extension": ".py",
   "mimetype": "text/x-python",
   "name": "python",
   "nbconvert_exporter": "python",
   "pygments_lexer": "ipython3",
   "version": "3.10.9"
  }
 },
 "nbformat": 4,
 "nbformat_minor": 5
}
